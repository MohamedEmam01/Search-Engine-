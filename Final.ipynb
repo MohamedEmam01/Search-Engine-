{
 "cells": [
  {
   "cell_type": "markdown",
   "id": "01c34139",
   "metadata": {},
   "source": [
    "# Library imports"
   ]
  },
  {
   "cell_type": "code",
   "execution_count": 12,
   "id": "82cb0cb1",
   "metadata": {},
   "outputs": [],
   "source": [
    "import pandas as pd\n",
    "import numpy as np\n",
    "import string\n",
    "from nltk.corpus import stopwords\n",
    "from sklearn.feature_extraction.text import TfidfVectorizer\n",
    "from sklearn.linear_model import LogisticRegression\n",
    "from sklearn.model_selection import train_test_split, KFold, cross_val_score\n",
    "from sklearn.metrics import accuracy_score\n",
    "from sklearn.metrics.pairwise import cosine_similarity\n",
    "from sklearn.metrics import recall_score, precision_score, f1_score"
   ]
  },
  {
   "cell_type": "markdown",
   "id": "055961b4",
   "metadata": {},
   "source": [
    "# Dataset Writer"
   ]
  },
  {
   "cell_type": "code",
   "execution_count": 13,
   "id": "7906d52d",
   "metadata": {
    "scrolled": false
   },
   "outputs": [],
   "source": [
    "# Enhanced varied content\n",
    "topics = [\"machine learning\", \"cooking\", \"deep learning\", \"woodworking\", \"neural networks\",\"technology\",\"sports\",\"travel\",\"bach\",\"politics\",\"full stack developer\",\"Data Science\",\"AI\",\"Data Analysis\",\"Data Engineer\"]\n",
    "modifiers = [\"Latest trends in\", \"Fundamental concepts of\", \"Advanced techniques in\", \"Introduction to\", \"Practical guide to\"]\n",
    "verbs = [\"explores\", \"discusses\", \"introduces\", \"explains\", \"covers\"]\n",
    "\n",
    "# Generate 500 samples with more variation\n",
    "content = []\n",
    "for _ in range(1500):\n",
    "    topic = np.random.choice(topics)\n",
    "    modifier = np.random.choice(modifiers)\n",
    "    verb = np.random.choice(verbs)\n",
    "    phrase = f\"{modifier} {topic} {verb}\"\n",
    "    content.append(phrase)\n",
    "\n",
    "np.random.shuffle(content)\n",
    "\n",
    "# Generate labels, where label is 1 if 'learning', 'deep', or 'neural' is in the text, else 0\n",
    "labels = [1 if any(word in text for word in [\"learning\", \"deep\", \"neural\"]) else 0 for text in content]\n",
    "\n",
    "# Create DataFrame\n",
    "df = pd.DataFrame({\n",
    "    \"content\": content,\n",
    "    \"label\": labels\n",
    "})\n",
    "\n",
    "# Save to CSV\n",
    "df.to_csv('search_engine_data.csv', index=False)\n",
    "\n",
    "# Display the DataFrame\n",
    "df\n"
   ]
  },
  {
   "cell_type": "markdown",
   "id": "ed950e5d",
   "metadata": {},
   "source": [
    "# Read Dataset"
   ]
  },
  {
   "cell_type": "code",
   "execution_count": 14,
   "id": "5012541d",
   "metadata": {},
   "outputs": [
    {
     "data": {
      "text/html": [
       "<div>\n",
       "<style scoped>\n",
       "    .dataframe tbody tr th:only-of-type {\n",
       "        vertical-align: middle;\n",
       "    }\n",
       "\n",
       "    .dataframe tbody tr th {\n",
       "        vertical-align: top;\n",
       "    }\n",
       "\n",
       "    .dataframe thead th {\n",
       "        text-align: right;\n",
       "    }\n",
       "</style>\n",
       "<table border=\"1\" class=\"dataframe\">\n",
       "  <thead>\n",
       "    <tr style=\"text-align: right;\">\n",
       "      <th></th>\n",
       "      <th>content</th>\n",
       "      <th>label</th>\n",
       "    </tr>\n",
       "  </thead>\n",
       "  <tbody>\n",
       "    <tr>\n",
       "      <th>0</th>\n",
       "      <td>Latest trends in politics introduces</td>\n",
       "      <td>0</td>\n",
       "    </tr>\n",
       "    <tr>\n",
       "      <th>1</th>\n",
       "      <td>Latest trends in deep learning explains</td>\n",
       "      <td>1</td>\n",
       "    </tr>\n",
       "    <tr>\n",
       "      <th>2</th>\n",
       "      <td>Advanced techniques in bach introduces</td>\n",
       "      <td>0</td>\n",
       "    </tr>\n",
       "    <tr>\n",
       "      <th>3</th>\n",
       "      <td>Practical guide to woodworking explores</td>\n",
       "      <td>0</td>\n",
       "    </tr>\n",
       "    <tr>\n",
       "      <th>4</th>\n",
       "      <td>Practical guide to Data Engineer introduces</td>\n",
       "      <td>0</td>\n",
       "    </tr>\n",
       "    <tr>\n",
       "      <th>...</th>\n",
       "      <td>...</td>\n",
       "      <td>...</td>\n",
       "    </tr>\n",
       "    <tr>\n",
       "      <th>1495</th>\n",
       "      <td>Fundamental concepts of Data Science discusses</td>\n",
       "      <td>0</td>\n",
       "    </tr>\n",
       "    <tr>\n",
       "      <th>1496</th>\n",
       "      <td>Fundamental concepts of neural networks explains</td>\n",
       "      <td>1</td>\n",
       "    </tr>\n",
       "    <tr>\n",
       "      <th>1497</th>\n",
       "      <td>Fundamental concepts of sports discusses</td>\n",
       "      <td>0</td>\n",
       "    </tr>\n",
       "    <tr>\n",
       "      <th>1498</th>\n",
       "      <td>Introduction to woodworking discusses</td>\n",
       "      <td>0</td>\n",
       "    </tr>\n",
       "    <tr>\n",
       "      <th>1499</th>\n",
       "      <td>Latest trends in machine learning introduces</td>\n",
       "      <td>1</td>\n",
       "    </tr>\n",
       "  </tbody>\n",
       "</table>\n",
       "<p>1500 rows × 2 columns</p>\n",
       "</div>"
      ],
      "text/plain": [
       "                                               content  label\n",
       "0                 Latest trends in politics introduces      0\n",
       "1              Latest trends in deep learning explains      1\n",
       "2               Advanced techniques in bach introduces      0\n",
       "3              Practical guide to woodworking explores      0\n",
       "4          Practical guide to Data Engineer introduces      0\n",
       "...                                                ...    ...\n",
       "1495    Fundamental concepts of Data Science discusses      0\n",
       "1496  Fundamental concepts of neural networks explains      1\n",
       "1497          Fundamental concepts of sports discusses      0\n",
       "1498             Introduction to woodworking discusses      0\n",
       "1499      Latest trends in machine learning introduces      1\n",
       "\n",
       "[1500 rows x 2 columns]"
      ]
     },
     "execution_count": 14,
     "metadata": {},
     "output_type": "execute_result"
    }
   ],
   "source": [
    "df=pd.read_csv('search_engine_data.csv')\n",
    "df"
   ]
  },
  {
   "cell_type": "markdown",
   "id": "5f7f8093",
   "metadata": {},
   "source": [
    "# Preprocessing"
   ]
  },
  {
   "cell_type": "code",
   "execution_count": 15,
   "id": "0105e716",
   "metadata": {},
   "outputs": [],
   "source": [
    "# Preprocessing function to clean text\n",
    "def preprocess_text(text):\n",
    "    # convert text to lower-case\n",
    "    text = text.lower()  \n",
    "    # remove punctuation\n",
    "    text = ''.join([char for char in text if char not in string.punctuation])  \n",
    "    # tokenize by spaces\n",
    "    tokens = text.split()  \n",
    "    # load stopwords\n",
    "    stop_words = stopwords.words('english')  \n",
    "    tokens = [token for token in tokens if token not in stop_words]  =\n",
    "    return ' '.join(tokens)\n",
    "\n",
    "# Preprocess the content\n",
    "df['content'] = df['content'].apply(preprocess_text)"
   ]
  },
  {
   "cell_type": "markdown",
   "id": "e2c09c15",
   "metadata": {},
   "source": [
    "# TF-IDF and Machine Learning Model Training with L2 regularization"
   ]
  },
  {
   "cell_type": "code",
   "execution_count": 16,
   "id": "cba79c51",
   "metadata": {},
   "outputs": [
    {
     "data": {
      "text/html": [
       "<style>#sk-container-id-1 {color: black;}#sk-container-id-1 pre{padding: 0;}#sk-container-id-1 div.sk-toggleable {background-color: white;}#sk-container-id-1 label.sk-toggleable__label {cursor: pointer;display: block;width: 100%;margin-bottom: 0;padding: 0.3em;box-sizing: border-box;text-align: center;}#sk-container-id-1 label.sk-toggleable__label-arrow:before {content: \"▸\";float: left;margin-right: 0.25em;color: #696969;}#sk-container-id-1 label.sk-toggleable__label-arrow:hover:before {color: black;}#sk-container-id-1 div.sk-estimator:hover label.sk-toggleable__label-arrow:before {color: black;}#sk-container-id-1 div.sk-toggleable__content {max-height: 0;max-width: 0;overflow: hidden;text-align: left;background-color: #f0f8ff;}#sk-container-id-1 div.sk-toggleable__content pre {margin: 0.2em;color: black;border-radius: 0.25em;background-color: #f0f8ff;}#sk-container-id-1 input.sk-toggleable__control:checked~div.sk-toggleable__content {max-height: 200px;max-width: 100%;overflow: auto;}#sk-container-id-1 input.sk-toggleable__control:checked~label.sk-toggleable__label-arrow:before {content: \"▾\";}#sk-container-id-1 div.sk-estimator input.sk-toggleable__control:checked~label.sk-toggleable__label {background-color: #d4ebff;}#sk-container-id-1 div.sk-label input.sk-toggleable__control:checked~label.sk-toggleable__label {background-color: #d4ebff;}#sk-container-id-1 input.sk-hidden--visually {border: 0;clip: rect(1px 1px 1px 1px);clip: rect(1px, 1px, 1px, 1px);height: 1px;margin: -1px;overflow: hidden;padding: 0;position: absolute;width: 1px;}#sk-container-id-1 div.sk-estimator {font-family: monospace;background-color: #f0f8ff;border: 1px dotted black;border-radius: 0.25em;box-sizing: border-box;margin-bottom: 0.5em;}#sk-container-id-1 div.sk-estimator:hover {background-color: #d4ebff;}#sk-container-id-1 div.sk-parallel-item::after {content: \"\";width: 100%;border-bottom: 1px solid gray;flex-grow: 1;}#sk-container-id-1 div.sk-label:hover label.sk-toggleable__label {background-color: #d4ebff;}#sk-container-id-1 div.sk-serial::before {content: \"\";position: absolute;border-left: 1px solid gray;box-sizing: border-box;top: 0;bottom: 0;left: 50%;z-index: 0;}#sk-container-id-1 div.sk-serial {display: flex;flex-direction: column;align-items: center;background-color: white;padding-right: 0.2em;padding-left: 0.2em;position: relative;}#sk-container-id-1 div.sk-item {position: relative;z-index: 1;}#sk-container-id-1 div.sk-parallel {display: flex;align-items: stretch;justify-content: center;background-color: white;position: relative;}#sk-container-id-1 div.sk-item::before, #sk-container-id-1 div.sk-parallel-item::before {content: \"\";position: absolute;border-left: 1px solid gray;box-sizing: border-box;top: 0;bottom: 0;left: 50%;z-index: -1;}#sk-container-id-1 div.sk-parallel-item {display: flex;flex-direction: column;z-index: 1;position: relative;background-color: white;}#sk-container-id-1 div.sk-parallel-item:first-child::after {align-self: flex-end;width: 50%;}#sk-container-id-1 div.sk-parallel-item:last-child::after {align-self: flex-start;width: 50%;}#sk-container-id-1 div.sk-parallel-item:only-child::after {width: 0;}#sk-container-id-1 div.sk-dashed-wrapped {border: 1px dashed gray;margin: 0 0.4em 0.5em 0.4em;box-sizing: border-box;padding-bottom: 0.4em;background-color: white;}#sk-container-id-1 div.sk-label label {font-family: monospace;font-weight: bold;display: inline-block;line-height: 1.2em;}#sk-container-id-1 div.sk-label-container {text-align: center;}#sk-container-id-1 div.sk-container {/* jupyter's `normalize.less` sets `[hidden] { display: none; }` but bootstrap.min.css set `[hidden] { display: none !important; }` so we also need the `!important` here to be able to override the default hidden behavior on the sphinx rendered scikit-learn.org. See: https://github.com/scikit-learn/scikit-learn/issues/21755 */display: inline-block !important;position: relative;}#sk-container-id-1 div.sk-text-repr-fallback {display: none;}</style><div id=\"sk-container-id-1\" class=\"sk-top-container\"><div class=\"sk-text-repr-fallback\"><pre>LogisticRegression(C=0.1, random_state=42)</pre><b>In a Jupyter environment, please rerun this cell to show the HTML representation or trust the notebook. <br />On GitHub, the HTML representation is unable to render, please try loading this page with nbviewer.org.</b></div><div class=\"sk-container\" hidden><div class=\"sk-item\"><div class=\"sk-estimator sk-toggleable\"><input class=\"sk-toggleable__control sk-hidden--visually\" id=\"sk-estimator-id-1\" type=\"checkbox\" checked><label for=\"sk-estimator-id-1\" class=\"sk-toggleable__label sk-toggleable__label-arrow\">LogisticRegression</label><div class=\"sk-toggleable__content\"><pre>LogisticRegression(C=0.1, random_state=42)</pre></div></div></div></div></div>"
      ],
      "text/plain": [
       "LogisticRegression(C=0.1, random_state=42)"
      ]
     },
     "execution_count": 16,
     "metadata": {},
     "output_type": "execute_result"
    }
   ],
   "source": [
    "# TF-IDF Vectorization with adjusted parameters\n",
    "tfidf_vectorizer = TfidfVectorizer(lowercase=True, stop_words='english', ngram_range=(1, 2), max_features=500)\n",
    "# Split data into training and testing sets\n",
    "X = tfidf_vectorizer.fit_transform(df['content'])\n",
    "y = df['label']\n",
    "X_train, X_test, y_train, y_test = train_test_split(X, y, test_size=0.2, random_state=42)\n",
    "# Initialize and train Logistic Regression with L2 regularization\n",
    "model = LogisticRegression(random_state=42, penalty='l2', C=0.1)\n",
    "model.fit(X_train, y_train)"
   ]
  },
  {
   "cell_type": "markdown",
   "id": "c0dc32a1",
   "metadata": {},
   "source": [
    "# Predict Model"
   ]
  },
  {
   "cell_type": "code",
   "execution_count": 17,
   "id": "77640e3f",
   "metadata": {},
   "outputs": [],
   "source": [
    "# Predict on the test set\n",
    "    y_pred = model.predict(X_test)"
   ]
  },
  {
   "cell_type": "markdown",
   "id": "f712e6e5",
   "metadata": {},
   "source": [
    "# Evaluate the model"
   ]
  },
  {
   "cell_type": "code",
   "execution_count": 18,
   "id": "8b1d9012",
   "metadata": {},
   "outputs": [
    {
     "name": "stdout",
     "output_type": "stream",
     "text": [
      "Recall: 0.89\n",
      "Precision: 1.00\n",
      "F1-score: 0.94\n",
      "Test Accuracy: 0.98\n",
      "Cross-Validation Accuracy Scores: [0.98       0.98666667 0.97666667 0.97       0.9       ]\n",
      "Average Cross-Validation Accuracy: 0.9627\n"
     ]
    }
   ],
   "source": [
    "# Calculate accuracy\n",
    "accuracy = accuracy_score(y_test, y_pred)\n",
    "# Optionally perform k-fold cross-validation\n",
    "kf = KFold(n_splits=5, shuffle=True, random_state=42)\n",
    "cross_val_scores = cross_val_score(model, X, y, cv=kf)\n",
    "from sklearn.metrics import recall_score, precision_score, f1_score\n",
    "\n",
    "# Calculate recall, precision, and F1-score\n",
    "recall = recall_score(y_test, y_pred)\n",
    "precision = precision_score(y_test, y_pred)\n",
    "f1 = f1_score(y_test, y_pred)\n",
    "print(f\"Recall: {recall:.2f}\")\n",
    "print(f\"Precision: {precision:.2f}\")\n",
    "print(f\"F1-score: {f1:.2f}\")\n",
    "print(f\"Test Accuracy: {accuracy:.2f}\")\n",
    "print(f\"Cross-Validation Accuracy Scores: {cross_val_scores}\")\n",
    "print(f\"Average Cross-Validation Accuracy: {np.mean(cross_val_scores):.4f}\")\n"
   ]
  },
  {
   "cell_type": "markdown",
   "id": "8eb91623",
   "metadata": {},
   "source": [
    "# Write a function to search and predict "
   ]
  },
  {
   "cell_type": "code",
   "execution_count": 19,
   "id": "35569aa0",
   "metadata": {},
   "outputs": [],
   "source": [
    "def search_and_predict(query, tfidf_vectorizer, model, df, top_n=5):\n",
    "    # Transform the query into TF-IDF vector\n",
    "    query_vector = tfidf_vectorizer.transform([query])\n",
    "    \n",
    "    # Compute cosine similarities for query-document similarity\n",
    "    cosine_similarities = cosine_similarity(query_vector, tfidf_vectorizer.transform(df['content'])).flatten()\n",
    "    \n",
    "    # Get model's prediction probabilities for documents being relevant\n",
    "    probabilities = model.predict_proba(tfidf_vectorizer.transform(df['content']))[:, 1]\n",
    "    \n",
    "    # Combine probabilities with cosine similarities by multiplication to rank documents\n",
    "    relevance_scores = probabilities * cosine_similarities\n",
    "    \n",
    "    # Get indices of top N relevant documents based on relevance scores\n",
    "    top_indices = np.argsort(-relevance_scores)[:top_n]\n",
    "    top_similarities = cosine_similarities[top_indices]\n",
    "    top_probabilities = probabilities[top_indices]\n",
    "    top_documents = df['content'].iloc[top_indices]\n",
    "    \n",
    "    # Prepare the results DataFrame\n",
    "    results_df = pd.DataFrame({\n",
    "        'document_id': top_indices,\n",
    "        'similarity': top_similarities,\n",
    "        'probability': top_probabilities,\n",
    "        'document': top_documents\n",
    "    })\n",
    "\n",
    "    return results_df\n",
    "\n"
   ]
  },
  {
   "cell_type": "markdown",
   "id": "63b51b52",
   "metadata": {},
   "source": [
    "# test the function and show results\n"
   ]
  },
  {
   "cell_type": "code",
   "execution_count": 20,
   "id": "c8f80d11",
   "metadata": {},
   "outputs": [
    {
     "name": "stdout",
     "output_type": "stream",
     "text": [
      "Enter your query: AI\n"
     ]
    },
    {
     "data": {
      "text/html": [
       "<div>\n",
       "<style scoped>\n",
       "    .dataframe tbody tr th:only-of-type {\n",
       "        vertical-align: middle;\n",
       "    }\n",
       "\n",
       "    .dataframe tbody tr th {\n",
       "        vertical-align: top;\n",
       "    }\n",
       "\n",
       "    .dataframe thead th {\n",
       "        text-align: right;\n",
       "    }\n",
       "</style>\n",
       "<table border=\"1\" class=\"dataframe\">\n",
       "  <thead>\n",
       "    <tr style=\"text-align: right;\">\n",
       "      <th></th>\n",
       "      <th>document_id</th>\n",
       "      <th>similarity</th>\n",
       "      <th>probability</th>\n",
       "      <th>document</th>\n",
       "    </tr>\n",
       "  </thead>\n",
       "  <tbody>\n",
       "    <tr>\n",
       "      <th>635</th>\n",
       "      <td>635</td>\n",
       "      <td>0.400195</td>\n",
       "      <td>0.119516</td>\n",
       "      <td>introduction ai discusses</td>\n",
       "    </tr>\n",
       "    <tr>\n",
       "      <th>402</th>\n",
       "      <td>402</td>\n",
       "      <td>0.400195</td>\n",
       "      <td>0.119516</td>\n",
       "      <td>introduction ai discusses</td>\n",
       "    </tr>\n",
       "    <tr>\n",
       "      <th>1029</th>\n",
       "      <td>1029</td>\n",
       "      <td>0.405926</td>\n",
       "      <td>0.117635</td>\n",
       "      <td>introduction ai introduces</td>\n",
       "    </tr>\n",
       "    <tr>\n",
       "      <th>828</th>\n",
       "      <td>828</td>\n",
       "      <td>0.405926</td>\n",
       "      <td>0.117635</td>\n",
       "      <td>introduction ai introduces</td>\n",
       "    </tr>\n",
       "    <tr>\n",
       "      <th>667</th>\n",
       "      <td>667</td>\n",
       "      <td>0.405926</td>\n",
       "      <td>0.117635</td>\n",
       "      <td>introduction ai introduces</td>\n",
       "    </tr>\n",
       "  </tbody>\n",
       "</table>\n",
       "</div>"
      ],
      "text/plain": [
       "      document_id  similarity  probability                    document\n",
       "635           635    0.400195     0.119516   introduction ai discusses\n",
       "402           402    0.400195     0.119516   introduction ai discusses\n",
       "1029         1029    0.405926     0.117635  introduction ai introduces\n",
       "828           828    0.405926     0.117635  introduction ai introduces\n",
       "667           667    0.405926     0.117635  introduction ai introduces"
      ]
     },
     "execution_count": 20,
     "metadata": {},
     "output_type": "execute_result"
    }
   ],
   "source": [
    "#take user input\n",
    "query = input(\"Enter your query: \")\n",
    "results = search_and_predict(query, tfidf_vectorizer, model, df, top_n=5)\n",
    "results"
   ]
  },
  {
   "cell_type": "code",
   "execution_count": null,
   "id": "aae1f206",
   "metadata": {},
   "outputs": [],
   "source": []
  },
  {
   "cell_type": "code",
   "execution_count": null,
   "id": "e17e6848",
   "metadata": {},
   "outputs": [],
   "source": []
  },
  {
   "cell_type": "code",
   "execution_count": null,
   "id": "9548ede2",
   "metadata": {},
   "outputs": [],
   "source": []
  }
 ],
 "metadata": {
  "kernelspec": {
   "display_name": "Python 3 (ipykernel)",
   "language": "python",
   "name": "python3"
  },
  "language_info": {
   "codemirror_mode": {
    "name": "ipython",
    "version": 3
   },
   "file_extension": ".py",
   "mimetype": "text/x-python",
   "name": "python",
   "nbconvert_exporter": "python",
   "pygments_lexer": "ipython3",
   "version": "3.11.5"
  }
 },
 "nbformat": 4,
 "nbformat_minor": 5
}
