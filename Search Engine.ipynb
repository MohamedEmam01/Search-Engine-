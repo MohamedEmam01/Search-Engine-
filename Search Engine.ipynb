{
 "cells": [
  {
   "cell_type": "code",
   "execution_count": 1,
   "id": "0e4ae71b",
   "metadata": {},
   "outputs": [
    {
     "name": "stdout",
     "output_type": "stream",
     "text": [
      "Enter search query: programming\n",
      "Found in documents: [1, 2]\n",
      "Enter search query: mohamed\n",
      "No documents found.\n",
      "Enter search query: puthon\n",
      "No documents found.\n",
      "Enter search query: exit\n"
     ]
    }
   ],
   "source": [
    "import re\n",
    "from collections import defaultdict\n",
    "\n",
    "# Sample dataset\n",
    "documents = {\n",
    "    1: \"Python is a great programming language.\",\n",
    "    2: \"Creating a search engine is a fun programming project.\",\n",
    "    3: \"Python can be used for scripting and data analysis.\"\n",
    "}\n",
    "\n",
    "# Simple text processing and indexing\n",
    "def create_index(docs):\n",
    "    index = defaultdict(list)\n",
    "    for id, text in docs.items():\n",
    "        words = re.findall(r'\\w+', text.lower())\n",
    "        for word in words:\n",
    "            index[word].append(id)\n",
    "    return index\n",
    "\n",
    "# Search function\n",
    "def search(query, index):\n",
    "    words = re.findall(r'\\w+', query.lower())\n",
    "    if not words:\n",
    "        return []\n",
    "    results = set(index[words[0]])\n",
    "    for word in words[1:]:\n",
    "        results.intersection_update(index[word])\n",
    "    return list(results)\n",
    "\n",
    "# Creating the index\n",
    "index = create_index(documents)\n",
    "\n",
    "# User interface in the console\n",
    "while True:\n",
    "    query = input(\"Enter search query: \")\n",
    "    if query == \"exit\":\n",
    "        break\n",
    "    results = search(query, index)\n",
    "    if results:\n",
    "        print(\"Found in documents:\", results)\n",
    "    else:\n",
    "        print(\"No documents found.\")\n"
   ]
  },
  {
   "cell_type": "code",
   "execution_count": null,
   "id": "1334cbb4",
   "metadata": {},
   "outputs": [],
   "source": []
  }
 ],
 "metadata": {
  "kernelspec": {
   "display_name": "Python 3 (ipykernel)",
   "language": "python",
   "name": "python3"
  },
  "language_info": {
   "codemirror_mode": {
    "name": "ipython",
    "version": 3
   },
   "file_extension": ".py",
   "mimetype": "text/x-python",
   "name": "python",
   "nbconvert_exporter": "python",
   "pygments_lexer": "ipython3",
   "version": "3.11.5"
  }
 },
 "nbformat": 4,
 "nbformat_minor": 5
}
